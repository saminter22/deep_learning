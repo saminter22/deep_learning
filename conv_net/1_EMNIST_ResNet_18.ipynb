{
  "nbformat": 4,
  "nbformat_minor": 0,
  "metadata": {
    "colab": {
      "provenance": [],
      "gpuType": "T4",
      "toc_visible": true
    },
    "kernelspec": {
      "name": "python3",
      "display_name": "Python 3"
    },
    "language_info": {
      "name": "python"
    },
    "accelerator": "GPU"
  },
  "cells": [
    {
      "cell_type": "markdown",
      "source": [
        "# Модель ResNet 18 с датасетом EMNIST"
      ],
      "metadata": {
        "id": "Jb35Ml-os2CB"
      }
    },
    {
      "cell_type": "code",
      "source": [
        "! pip install torch-summary -q"
      ],
      "metadata": {
        "id": "_1ssv0DhsgW-"
      },
      "execution_count": 1,
      "outputs": []
    },
    {
      "cell_type": "code",
      "execution_count": 15,
      "metadata": {
        "id": "4KGobtIkqOGF"
      },
      "outputs": [],
      "source": [
        "import time\n",
        "import numpy as np\n",
        "import pandas as pd\n",
        "import matplotlib.pyplot as plt\n",
        "import seaborn as sns\n",
        "import torch\n",
        "from torch import nn\n",
        "import torchvision as tv\n",
        "from torchsummary import summary"
      ]
    },
    {
      "cell_type": "code",
      "source": [
        "def evaluate_accuracy(data_iter, net):\n",
        "    '''\n",
        "    Функция подсчета метрики accuracy,\n",
        "    '''\n",
        "    acc_sum, n = 0, 0\n",
        "    net.eval()\n",
        "    for X, y in data_iter:\n",
        "        X, y = X.to(device), y.to(device)\n",
        "        acc_sum += (net(X).argmax(axis=1) == y).sum()\n",
        "        n += y.shape[0]\n",
        "    return acc_sum.item() / n"
      ],
      "metadata": {
        "id": "T8QUuyckqhCQ"
      },
      "execution_count": 3,
      "outputs": []
    },
    {
      "cell_type": "code",
      "source": [
        "def train(net, train_iter, test_iter, trainer, num_epochs):\n",
        "    net.to(device)\n",
        "    loss = nn.CrossEntropyLoss(reduction='sum')\n",
        "    net.train()\n",
        "    for epoch in range(num_epochs):\n",
        "        train_l_sum, train_acc_sum, n, start = 0.0, 0.0, 0, time.time()\n",
        "\n",
        "        for i, (X, y) in enumerate(train_iter):\n",
        "            X, y = X.to(device), y.to(device)\n",
        "            trainer.zero_grad()\n",
        "            y_hat = net(X)\n",
        "            l = loss(y_hat, y)\n",
        "            l.backward()\n",
        "            trainer.step()\n",
        "            train_l_sum += l.item()\n",
        "            train_acc_sum += (y_hat.argmax(axis=1) == y).sum().item()\n",
        "            n += y.shape[0]\n",
        "\n",
        "            if i % 50 == 0:\n",
        "              print(f\"Step {i}. time since epoch: {time.time() -  start:.3f}. \"\n",
        "                    f\"Train acc: {train_acc_sum / n:.3f}. Train Loss: {train_l_sum / n:.3f}\")\n",
        "        test_acc = evaluate_accuracy(test_iter, net.to(device))\n",
        "        print('-' * 20)\n",
        "        print(f'epoch {epoch + 1}, loss {train_l_sum / n:.4f}, train acc {train_acc_sum / n:.3f}'\n",
        "              f', test acc {test_acc:.3f}, time {time.time() - start:.1f} sec')"
      ],
      "metadata": {
        "id": "MeEXo-2CtnAY"
      },
      "execution_count": 197,
      "outputs": []
    },
    {
      "cell_type": "code",
      "source": [
        "device = 'cuda' if torch.cuda.is_available() else 'cpu'\n",
        "device"
      ],
      "metadata": {
        "colab": {
          "base_uri": "https://localhost:8080/",
          "height": 35
        },
        "id": "pMDTn0iYtrLs",
        "outputId": "be243337-db0d-44f9-baf0-80af56ab4512"
      },
      "execution_count": 5,
      "outputs": [
        {
          "output_type": "execute_result",
          "data": {
            "text/plain": [
              "'cuda'"
            ],
            "application/vnd.google.colaboratory.intrinsic+json": {
              "type": "string"
            }
          },
          "metadata": {},
          "execution_count": 5
        }
      ]
    },
    {
      "cell_type": "markdown",
      "source": [
        "## Загрузка данных"
      ],
      "metadata": {
        "id": "xFX3doy0ucTW"
      }
    },
    {
      "cell_type": "code",
      "source": [
        "BATCH_SIZE = 256\n",
        "transoforms = tv.transforms.Compose([\n",
        "    tv.transforms.Grayscale(3),\n",
        "    tv.transforms.Resize((224, 224)),\n",
        "    tv.transforms.ToTensor()\n",
        "])\n",
        "train_dataset = tv.datasets.EMNIST('.', split='balanced', train=True, transform=transoforms, download=True)\n",
        "test_dataset = tv.datasets.EMNIST('.', split='balanced', train=False, transform=transoforms, download=True)\n",
        "train_iter = torch.utils.data.DataLoader(train_dataset, batch_size=BATCH_SIZE)\n",
        "test_iter = torch.utils.data.DataLoader(test_dataset, batch_size=BATCH_SIZE)"
      ],
      "metadata": {
        "id": "ovj6qNOpuhm9"
      },
      "execution_count": 182,
      "outputs": []
    },
    {
      "cell_type": "code",
      "source": [
        "test_dataset[0][0].shape"
      ],
      "metadata": {
        "colab": {
          "base_uri": "https://localhost:8080/"
        },
        "id": "sqnuHZchwcnn",
        "outputId": "987b03cc-023c-4398-ce94-0c27cc0455d7"
      },
      "execution_count": 183,
      "outputs": [
        {
          "output_type": "execute_result",
          "data": {
            "text/plain": [
              "torch.Size([3, 224, 224])"
            ]
          },
          "metadata": {},
          "execution_count": 183
        }
      ]
    },
    {
      "cell_type": "code",
      "source": [
        "# dataiter = iter(train_iter)"
      ],
      "metadata": {
        "id": "9D4YyCWywcer"
      },
      "execution_count": 184,
      "outputs": []
    },
    {
      "cell_type": "code",
      "source": [
        "dataiter = iter(train_dataset)"
      ],
      "metadata": {
        "id": "e0zS7V4m6P5d"
      },
      "execution_count": 185,
      "outputs": []
    },
    {
      "cell_type": "code",
      "source": [
        "classes = train_dataset.classes"
      ],
      "metadata": {
        "id": "M_mhYA186Bgy"
      },
      "execution_count": 186,
      "outputs": []
    },
    {
      "cell_type": "code",
      "source": [
        "data = next(dataiter)\n",
        "features, labels = data\n",
        "print('Размер изображения', features[0].shape)\n",
        "label = classes[labels]\n",
        "print(label)\n",
        "plt.imshow(torch.squeeze(features[0]), cmap = 'gray')\n",
        "# plt.title('Класс '+ str(labels[0].item()))\n",
        "plt.title('Символ ' + str(label))\n",
        "plt.show()"
      ],
      "metadata": {
        "colab": {
          "base_uri": "https://localhost:8080/",
          "height": 488
        },
        "id": "U3uzXcqP4oNy",
        "outputId": "e2766ce4-5291-4d92-cd1e-3f35f598f536"
      },
      "execution_count": 187,
      "outputs": [
        {
          "output_type": "stream",
          "name": "stdout",
          "text": [
            "Размер изображения torch.Size([224, 224])\n",
            "r\n"
          ]
        },
        {
          "output_type": "display_data",
          "data": {
            "text/plain": [
              "<Figure size 640x480 with 1 Axes>"
            ],
            "image/png": "[encoded data removed]"
          },
          "metadata": {}
        }
      ]
    },
    {
      "cell_type": "code",
      "source": [
        "dataiter = iter(train_iter)\n",
        "data = next(dataiter)\n",
        "features, labels = data\n",
        "print('Количество классов:', len(torch.unique(labels)))\n",
        "print('Классы:', torch.unique(labels))\n",
        "print('Индексы и классы:', train_dataset.class_to_idx)\n",
        "print('Классы', train_dataset.classes)"
      ],
      "metadata": {
        "colab": {
          "base_uri": "https://localhost:8080/"
        },
        "id": "DphhEr4d0s_q",
        "outputId": "05815277-6e59-4396-8efe-77e10425a154"
      },
      "execution_count": 188,
      "outputs": [
        {
          "output_type": "stream",
          "name": "stdout",
          "text": [
            "Количество классов: 47\n",
            "Классы: tensor([ 0,  1,  2,  3,  4,  5,  6,  7,  8,  9, 10, 11, 12, 13, 14, 15, 16, 17,\n",
            "        18, 19, 20, 21, 22, 23, 24, 25, 26, 27, 28, 29, 30, 31, 32, 33, 34, 35,\n",
            "        36, 37, 38, 39, 40, 41, 42, 43, 44, 45, 46])\n",
            "Индексы и классы: {'0': 0, '1': 1, '2': 2, '3': 3, '4': 4, '5': 5, '6': 6, '7': 7, '8': 8, '9': 9, 'A': 10, 'B': 11, 'C': 12, 'D': 13, 'E': 14, 'F': 15, 'G': 16, 'H': 17, 'I': 18, 'J': 19, 'K': 20, 'L': 21, 'M': 22, 'N': 23, 'O': 24, 'P': 25, 'Q': 26, 'R': 27, 'S': 28, 'T': 29, 'U': 30, 'V': 31, 'W': 32, 'X': 33, 'Y': 34, 'Z': 35, 'a': 36, 'b': 37, 'd': 38, 'e': 39, 'f': 40, 'g': 41, 'h': 42, 'n': 43, 'q': 44, 'r': 45, 't': 46}\n",
            "Классы ['0', '1', '2', '3', '4', '5', '6', '7', '8', '9', 'A', 'B', 'C', 'D', 'E', 'F', 'G', 'H', 'I', 'J', 'K', 'L', 'M', 'N', 'O', 'P', 'Q', 'R', 'S', 'T', 'U', 'V', 'W', 'X', 'Y', 'Z', 'a', 'b', 'd', 'e', 'f', 'g', 'h', 'n', 'q', 'r', 't']\n"
          ]
        }
      ]
    },
    {
      "cell_type": "code",
      "source": [
        "model = tv.models.resnet18(pretrained=True)"
      ],
      "metadata": {
        "id": "19PitAsQqhKi"
      },
      "execution_count": 189,
      "outputs": []
    },
    {
      "cell_type": "code",
      "source": [
        "model"
      ],
      "metadata": {
        "id": "ZTeQ_1RxqhN1",
        "colab": {
          "base_uri": "https://localhost:8080/"
        },
        "outputId": "7cb9474c-4d51-4602-c92b-b1d3e4c0ce2a"
      },
      "execution_count": 190,
      "outputs": [
        {
          "output_type": "execute_result",
          "data": {
            "text/plain": [
              "ResNet(\n",
              "  (conv1): Conv2d(3, 64, kernel_size=(7, 7), stride=(2, 2), padding=(3, 3), bias=False)\n",
              "  (bn1): BatchNorm2d(64, eps=1e-05, momentum=0.1, affine=True, track_running_stats=True)\n",
              "  (relu): ReLU(inplace=True)\n",
              "  (maxpool): MaxPool2d(kernel_size=3, stride=2, padding=1, dilation=1, ceil_mode=False)\n",
              "  (layer1): Sequential(\n",
              "    (0): BasicBlock(\n",
              "      (conv1): Conv2d(64, 64, kernel_size=(3, 3), stride=(1, 1), padding=(1, 1), bias=False)\n",
              "      (bn1): BatchNorm2d(64, eps=1e-05, momentum=0.1, affine=True, track_running_stats=True)\n",
              "      (relu): ReLU(inplace=True)\n",
              "      (conv2): Conv2d(64, 64, kernel_size=(3, 3), stride=(1, 1), padding=(1, 1), bias=False)\n",
              "      (bn2): BatchNorm2d(64, eps=1e-05, momentum=0.1, affine=True, track_running_stats=True)\n",
              "    )\n",
              "    (1): BasicBlock(\n",
              "      (conv1): Conv2d(64, 64, kernel_size=(3, 3), stride=(1, 1), padding=(1, 1), bias=False)\n",
              "      (bn1): BatchNorm2d(64, eps=1e-05, momentum=0.1, affine=True, track_running_stats=True)\n",
              "      (relu): ReLU(inplace=True)\n",
              "      (conv2): Conv2d(64, 64, kernel_size=(3, 3), stride=(1, 1), padding=(1, 1), bias=False)\n",
              "      (bn2): BatchNorm2d(64, eps=1e-05, momentum=0.1, affine=True, track_running_stats=True)\n",
              "    )\n",
              "  )\n",
              "  (layer2): Sequential(\n",
              "    (0): BasicBlock(\n",
              "      (conv1): Conv2d(64, 128, kernel_size=(3, 3), stride=(2, 2), padding=(1, 1), bias=False)\n",
              "      (bn1): BatchNorm2d(128, eps=1e-05, momentum=0.1, affine=True, track_running_stats=True)\n",
              "      (relu): ReLU(inplace=True)\n",
              "      (conv2): Conv2d(128, 128, kernel_size=(3, 3), stride=(1, 1), padding=(1, 1), bias=False)\n",
              "      (bn2): BatchNorm2d(128, eps=1e-05, momentum=0.1, affine=True, track_running_stats=True)\n",
              "      (downsample): Sequential(\n",
              "        (0): Conv2d(64, 128, kernel_size=(1, 1), stride=(2, 2), bias=False)\n",
              "        (1): BatchNorm2d(128, eps=1e-05, momentum=0.1, affine=True, track_running_stats=True)\n",
              "      )\n",
              "    )\n",
              "    (1): BasicBlock(\n",
              "      (conv1): Conv2d(128, 128, kernel_size=(3, 3), stride=(1, 1), padding=(1, 1), bias=False)\n",
              "      (bn1): BatchNorm2d(128, eps=1e-05, momentum=0.1, affine=True, track_running_stats=True)\n",
              "      (relu): ReLU(inplace=True)\n",
              "      (conv2): Conv2d(128, 128, kernel_size=(3, 3), stride=(1, 1), padding=(1, 1), bias=False)\n",
              "      (bn2): BatchNorm2d(128, eps=1e-05, momentum=0.1, affine=True, track_running_stats=True)\n",
              "    )\n",
              "  )\n",
              "  (layer3): Sequential(\n",
              "    (0): BasicBlock(\n",
              "      (conv1): Conv2d(128, 256, kernel_size=(3, 3), stride=(2, 2), padding=(1, 1), bias=False)\n",
              "      (bn1): BatchNorm2d(256, eps=1e-05, momentum=0.1, affine=True, track_running_stats=True)\n",
              "      (relu): ReLU(inplace=True)\n",
              "      (conv2): Conv2d(256, 256, kernel_size=(3, 3), stride=(1, 1), padding=(1, 1), bias=False)\n",
              "      (bn2): BatchNorm2d(256, eps=1e-05, momentum=0.1, affine=True, track_running_stats=True)\n",
              "      (downsample): Sequential(\n",
              "        (0): Conv2d(128, 256, kernel_size=(1, 1), stride=(2, 2), bias=False)\n",
              "        (1): BatchNorm2d(256, eps=1e-05, momentum=0.1, affine=True, track_running_stats=True)\n",
              "      )\n",
              "    )\n",
              "    (1): BasicBlock(\n",
              "      (conv1): Conv2d(256, 256, kernel_size=(3, 3), stride=(1, 1), padding=(1, 1), bias=False)\n",
              "      (bn1): BatchNorm2d(256, eps=1e-05, momentum=0.1, affine=True, track_running_stats=True)\n",
              "      (relu): ReLU(inplace=True)\n",
              "      (conv2): Conv2d(256, 256, kernel_size=(3, 3), stride=(1, 1), padding=(1, 1), bias=False)\n",
              "      (bn2): BatchNorm2d(256, eps=1e-05, momentum=0.1, affine=True, track_running_stats=True)\n",
              "    )\n",
              "  )\n",
              "  (layer4): Sequential(\n",
              "    (0): BasicBlock(\n",
              "      (conv1): Conv2d(256, 512, kernel_size=(3, 3), stride=(2, 2), padding=(1, 1), bias=False)\n",
              "      (bn1): BatchNorm2d(512, eps=1e-05, momentum=0.1, affine=True, track_running_stats=True)\n",
              "      (relu): ReLU(inplace=True)\n",
              "      (conv2): Conv2d(512, 512, kernel_size=(3, 3), stride=(1, 1), padding=(1, 1), bias=False)\n",
              "      (bn2): BatchNorm2d(512, eps=1e-05, momentum=0.1, affine=True, track_running_stats=True)\n",
              "      (downsample): Sequential(\n",
              "        (0): Conv2d(256, 512, kernel_size=(1, 1), stride=(2, 2), bias=False)\n",
              "        (1): BatchNorm2d(512, eps=1e-05, momentum=0.1, affine=True, track_running_stats=True)\n",
              "      )\n",
              "    )\n",
              "    (1): BasicBlock(\n",
              "      (conv1): Conv2d(512, 512, kernel_size=(3, 3), stride=(1, 1), padding=(1, 1), bias=False)\n",
              "      (bn1): BatchNorm2d(512, eps=1e-05, momentum=0.1, affine=True, track_running_stats=True)\n",
              "      (relu): ReLU(inplace=True)\n",
              "      (conv2): Conv2d(512, 512, kernel_size=(3, 3), stride=(1, 1), padding=(1, 1), bias=False)\n",
              "      (bn2): BatchNorm2d(512, eps=1e-05, momentum=0.1, affine=True, track_running_stats=True)\n",
              "    )\n",
              "  )\n",
              "  (avgpool): AdaptiveAvgPool2d(output_size=(1, 1))\n",
              "  (fc): Linear(in_features=512, out_features=1000, bias=True)\n",
              ")"
            ]
          },
          "metadata": {},
          "execution_count": 190
        }
      ]
    },
    {
      "cell_type": "code",
      "source": [
        "# Убираем требование градиента:\n",
        "for param in model.parameters():\n",
        "    param.requires_grad = False"
      ],
      "metadata": {
        "id": "GXI5jSXd_1J7"
      },
      "execution_count": 191,
      "outputs": []
    },
    {
      "cell_type": "code",
      "source": [
        "model.fc"
      ],
      "metadata": {
        "id": "yYY0VVg_qhQ1",
        "colab": {
          "base_uri": "https://localhost:8080/"
        },
        "outputId": "65c0d4a5-7d63-49fa-a46a-46b525b78156"
      },
      "execution_count": 192,
      "outputs": [
        {
          "output_type": "execute_result",
          "data": {
            "text/plain": [
              "Linear(in_features=512, out_features=1000, bias=True)"
            ]
          },
          "metadata": {},
          "execution_count": 192
        }
      ]
    },
    {
      "cell_type": "code",
      "source": [
        "# меняем последний слой\n",
        "model.fc = nn.Linear(in_features=512, out_features=47)"
      ],
      "metadata": {
        "id": "zL2vbevgqhUH"
      },
      "execution_count": 193,
      "outputs": []
    },
    {
      "cell_type": "code",
      "source": [
        "# Собираем параметры для обучения\n",
        "print(\"Params to learn:\")\n",
        "params_to_update = []\n",
        "for name, param in model.named_parameters():\n",
        "    if param.requires_grad == True:\n",
        "        params_to_update.append(param)\n",
        "        print(\"\\t\",name)"
      ],
      "metadata": {
        "colab": {
          "base_uri": "https://localhost:8080/"
        },
        "id": "8I6YMbj7_0-_",
        "outputId": "766ab115-c138-4780-d05a-78108d883f42"
      },
      "execution_count": 194,
      "outputs": [
        {
          "output_type": "stream",
          "name": "stdout",
          "text": [
            "Params to learn:\n",
            "\t fc.weight\n",
            "\t fc.bias\n"
          ]
        }
      ]
    },
    {
      "cell_type": "code",
      "source": [
        "trainer = torch.optim.Adam(params_to_update, lr=0.001)"
      ],
      "metadata": {
        "id": "L-A6dvvU_08D"
      },
      "execution_count": 195,
      "outputs": []
    },
    {
      "cell_type": "code",
      "source": [
        "train(model, train_iter, test_iter, trainer, 3)"
      ],
      "metadata": {
        "colab": {
          "base_uri": "https://localhost:8080/"
        },
        "id": "GGlfp0EvAx6g",
        "outputId": "8e6f4ed7-ea32-4df6-d3ed-61690cb73d8d"
      },
      "execution_count": 198,
      "outputs": [
        {
          "output_type": "stream",
          "name": "stdout",
          "text": [
            "Step 0. time since epoch: 0.713. Train acc: 0.777. Train Loss: 0.845\n",
            "Step 50. time since epoch: 35.963. Train acc: 0.761. Train Loss: 0.874\n",
            "Step 100. time since epoch: 71.925. Train acc: 0.765. Train Loss: 0.862\n",
            "Step 150. time since epoch: 107.850. Train acc: 0.768. Train Loss: 0.846\n",
            "Step 200. time since epoch: 143.559. Train acc: 0.770. Train Loss: 0.830\n",
            "Step 250. time since epoch: 178.851. Train acc: 0.772. Train Loss: 0.822\n",
            "Step 300. time since epoch: 213.949. Train acc: 0.773. Train Loss: 0.811\n",
            "Step 350. time since epoch: 249.249. Train acc: 0.774. Train Loss: 0.801\n",
            "Step 400. time since epoch: 283.392. Train acc: 0.775. Train Loss: 0.794\n",
            "--------------------\n",
            "epoch 1, loss 0.7891, train acc 0.775, test acc 0.780, time 350.1 sec\n",
            "Step 0. time since epoch: 0.634. Train acc: 0.793. Train Loss: 0.698\n",
            "Step 50. time since epoch: 36.023. Train acc: 0.789. Train Loss: 0.722\n",
            "Step 100. time since epoch: 70.896. Train acc: 0.791. Train Loss: 0.716\n",
            "Step 150. time since epoch: 103.985. Train acc: 0.793. Train Loss: 0.708\n",
            "Step 200. time since epoch: 137.492. Train acc: 0.795. Train Loss: 0.699\n",
            "Step 250. time since epoch: 173.009. Train acc: 0.796. Train Loss: 0.697\n",
            "Step 300. time since epoch: 207.925. Train acc: 0.797. Train Loss: 0.691\n",
            "Step 350. time since epoch: 242.577. Train acc: 0.797. Train Loss: 0.686\n",
            "Step 400. time since epoch: 276.843. Train acc: 0.797. Train Loss: 0.683\n",
            "--------------------\n",
            "epoch 2, loss 0.6813, train acc 0.798, test acc 0.790, time 340.6 sec\n",
            "Step 0. time since epoch: 0.642. Train acc: 0.805. Train Loss: 0.643\n",
            "Step 50. time since epoch: 36.006. Train acc: 0.802. Train Loss: 0.659\n",
            "Step 100. time since epoch: 70.205. Train acc: 0.804. Train Loss: 0.654\n",
            "Step 150. time since epoch: 104.022. Train acc: 0.805. Train Loss: 0.648\n",
            "Step 200. time since epoch: 138.437. Train acc: 0.807. Train Loss: 0.641\n",
            "Step 250. time since epoch: 171.962. Train acc: 0.807. Train Loss: 0.640\n",
            "Step 300. time since epoch: 206.410. Train acc: 0.808. Train Loss: 0.636\n",
            "Step 350. time since epoch: 241.632. Train acc: 0.809. Train Loss: 0.632\n",
            "Step 400. time since epoch: 276.007. Train acc: 0.808. Train Loss: 0.631\n",
            "--------------------\n",
            "epoch 3, loss 0.6304, train acc 0.808, test acc 0.798, time 342.4 sec\n"
          ]
        }
      ]
    },
    {
      "cell_type": "code",
      "source": [
        "data = {\n",
        "    'Модель': ['ResNet18', 'ResNet18', 'ResNet18'],\n",
        "    'Номер эпохи': [1, 2, 3],\n",
        "    'Test_acc': [0.780, 0.79, 0.798],\n",
        "    'Test_loss': [0.7891, 0.6813, 0.6304]\n",
        "}\n",
        "res = pd.DataFrame(data)\n",
        "print(res)"
      ],
      "metadata": {
        "colab": {
          "base_uri": "https://localhost:8080/"
        },
        "id": "6dORFZiOKhjX",
        "outputId": "7ecb52f7-2c60-41f4-ec14-6b5939e6ff56"
      },
      "execution_count": 225,
      "outputs": [
        {
          "output_type": "stream",
          "name": "stdout",
          "text": [
            "     Модель  Номер эпохи  Test_acc  Test_loss\n",
            "0  ResNet18            1     0.780     0.7891\n",
            "1  ResNet18            2     0.790     0.6813\n",
            "2  ResNet18            3     0.798     0.6304\n"
          ]
        }
      ]
    },
    {
      "cell_type": "code",
      "source": [
        "# res.loc[len(res)] = ['ResNet18', '1', '0.780', '0.7891']\n",
        "# res"
      ],
      "metadata": {
        "id": "l3rH1uV6KBmt"
      },
      "execution_count": 226,
      "outputs": []
    }
  ]
}